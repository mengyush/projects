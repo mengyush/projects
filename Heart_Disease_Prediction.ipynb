{
 "cells": [
  {
   "cell_type": "markdown",
   "id": "75a8d02c",
   "metadata": {},
   "source": [
    "# *【Project】* Logistic Regression - Heart Disease\n",
    "\n",
    "World Health Organization has estimated 12 million deaths occur worldwide, every year due to Heart diseases. Half the deaths in the United States and other developed countries are due to cardio vascular diseases. The early prognosis of cardiovascular diseases can aid in making decisions on lifestyle changes in high risk patients and in turn reduce the complications. This research intends to pinpoint the most relevant/risk factors of heart disease as well as predict the overall risk using logistic regression."
   ]
  },
  {
   "cell_type": "code",
   "execution_count": 2,
   "id": "c5cf9dc3",
   "metadata": {},
   "outputs": [],
   "source": [
    "import pandas as pd\n",
    "import numpy as np\n",
    "import statsmodels.api as sm\n",
    "import scipy.stats as st\n",
    "import matplotlib.pyplot as plt\n",
    "import seaborn as sn\n",
    "from sklearn.metrics import confusion_matrix\n",
    "import matplotlib.mlab as mlab"
   ]
  },
  {
   "cell_type": "markdown",
   "id": "098f55a8",
   "metadata": {},
   "source": [
    "## 1. Data Preparation\n",
    "#### Source:\n",
    "The dataset is publically available on the Kaggle website, and it is from an ongoing ongoing cardiovascular study on residents of the town of Framingham, Massachusetts. The classification goal is to **predict whether the patient has 10-year risk of future coronary heart disease (CHD).** The dataset provides the patients’ information. It includes over 4,000 records and 15 attributes."
   ]
  },
  {
   "cell_type": "code",
   "execution_count": 3,
   "id": "37eb1003",
   "metadata": {},
   "outputs": [
    {
     "data": {
      "text/html": [
       "<div>\n",
       "<style scoped>\n",
       "    .dataframe tbody tr th:only-of-type {\n",
       "        vertical-align: middle;\n",
       "    }\n",
       "\n",
       "    .dataframe tbody tr th {\n",
       "        vertical-align: top;\n",
       "    }\n",
       "\n",
       "    .dataframe thead th {\n",
       "        text-align: right;\n",
       "    }\n",
       "</style>\n",
       "<table border=\"1\" class=\"dataframe\">\n",
       "  <thead>\n",
       "    <tr style=\"text-align: right;\">\n",
       "      <th></th>\n",
       "      <th>male</th>\n",
       "      <th>age</th>\n",
       "      <th>education</th>\n",
       "      <th>currentSmoker</th>\n",
       "      <th>cigsPerDay</th>\n",
       "      <th>BPMeds</th>\n",
       "      <th>prevalentStroke</th>\n",
       "      <th>prevalentHyp</th>\n",
       "      <th>diabetes</th>\n",
       "      <th>totChol</th>\n",
       "      <th>sysBP</th>\n",
       "      <th>diaBP</th>\n",
       "      <th>BMI</th>\n",
       "      <th>heartRate</th>\n",
       "      <th>glucose</th>\n",
       "      <th>TenYearCHD</th>\n",
       "    </tr>\n",
       "  </thead>\n",
       "  <tbody>\n",
       "    <tr>\n",
       "      <th>0</th>\n",
       "      <td>1</td>\n",
       "      <td>39</td>\n",
       "      <td>4.0</td>\n",
       "      <td>0</td>\n",
       "      <td>0.0</td>\n",
       "      <td>0.0</td>\n",
       "      <td>0</td>\n",
       "      <td>0</td>\n",
       "      <td>0</td>\n",
       "      <td>195.0</td>\n",
       "      <td>106.0</td>\n",
       "      <td>70.0</td>\n",
       "      <td>26.97</td>\n",
       "      <td>80.0</td>\n",
       "      <td>77.0</td>\n",
       "      <td>0</td>\n",
       "    </tr>\n",
       "    <tr>\n",
       "      <th>1</th>\n",
       "      <td>0</td>\n",
       "      <td>46</td>\n",
       "      <td>2.0</td>\n",
       "      <td>0</td>\n",
       "      <td>0.0</td>\n",
       "      <td>0.0</td>\n",
       "      <td>0</td>\n",
       "      <td>0</td>\n",
       "      <td>0</td>\n",
       "      <td>250.0</td>\n",
       "      <td>121.0</td>\n",
       "      <td>81.0</td>\n",
       "      <td>28.73</td>\n",
       "      <td>95.0</td>\n",
       "      <td>76.0</td>\n",
       "      <td>0</td>\n",
       "    </tr>\n",
       "    <tr>\n",
       "      <th>2</th>\n",
       "      <td>1</td>\n",
       "      <td>48</td>\n",
       "      <td>1.0</td>\n",
       "      <td>1</td>\n",
       "      <td>20.0</td>\n",
       "      <td>0.0</td>\n",
       "      <td>0</td>\n",
       "      <td>0</td>\n",
       "      <td>0</td>\n",
       "      <td>245.0</td>\n",
       "      <td>127.5</td>\n",
       "      <td>80.0</td>\n",
       "      <td>25.34</td>\n",
       "      <td>75.0</td>\n",
       "      <td>70.0</td>\n",
       "      <td>0</td>\n",
       "    </tr>\n",
       "    <tr>\n",
       "      <th>3</th>\n",
       "      <td>0</td>\n",
       "      <td>61</td>\n",
       "      <td>3.0</td>\n",
       "      <td>1</td>\n",
       "      <td>30.0</td>\n",
       "      <td>0.0</td>\n",
       "      <td>0</td>\n",
       "      <td>1</td>\n",
       "      <td>0</td>\n",
       "      <td>225.0</td>\n",
       "      <td>150.0</td>\n",
       "      <td>95.0</td>\n",
       "      <td>28.58</td>\n",
       "      <td>65.0</td>\n",
       "      <td>103.0</td>\n",
       "      <td>1</td>\n",
       "    </tr>\n",
       "    <tr>\n",
       "      <th>4</th>\n",
       "      <td>0</td>\n",
       "      <td>46</td>\n",
       "      <td>3.0</td>\n",
       "      <td>1</td>\n",
       "      <td>23.0</td>\n",
       "      <td>0.0</td>\n",
       "      <td>0</td>\n",
       "      <td>0</td>\n",
       "      <td>0</td>\n",
       "      <td>285.0</td>\n",
       "      <td>130.0</td>\n",
       "      <td>84.0</td>\n",
       "      <td>23.10</td>\n",
       "      <td>85.0</td>\n",
       "      <td>85.0</td>\n",
       "      <td>0</td>\n",
       "    </tr>\n",
       "  </tbody>\n",
       "</table>\n",
       "</div>"
      ],
      "text/plain": [
       "   male  age  education  currentSmoker  cigsPerDay  BPMeds  prevalentStroke  \\\n",
       "0     1   39        4.0              0         0.0     0.0                0   \n",
       "1     0   46        2.0              0         0.0     0.0                0   \n",
       "2     1   48        1.0              1        20.0     0.0                0   \n",
       "3     0   61        3.0              1        30.0     0.0                0   \n",
       "4     0   46        3.0              1        23.0     0.0                0   \n",
       "\n",
       "   prevalentHyp  diabetes  totChol  sysBP  diaBP    BMI  heartRate  glucose  \\\n",
       "0             0         0    195.0  106.0   70.0  26.97       80.0     77.0   \n",
       "1             0         0    250.0  121.0   81.0  28.73       95.0     76.0   \n",
       "2             0         0    245.0  127.5   80.0  25.34       75.0     70.0   \n",
       "3             1         0    225.0  150.0   95.0  28.58       65.0    103.0   \n",
       "4             0         0    285.0  130.0   84.0  23.10       85.0     85.0   \n",
       "\n",
       "   TenYearCHD  \n",
       "0           0  \n",
       "1           0  \n",
       "2           0  \n",
       "3           1  \n",
       "4           0  "
      ]
     },
     "execution_count": 3,
     "metadata": {},
     "output_type": "execute_result"
    }
   ],
   "source": [
    "heart_df = pd.read_csv('framingham.csv')\n",
    "heart_df.head()"
   ]
  },
  {
   "cell_type": "code",
   "execution_count": 5,
   "id": "6296c682",
   "metadata": {},
   "outputs": [],
   "source": [
    "heart_df.drop(['education'], axis=1, inplace=True)\n",
    "heart_df.rename(columns={'male':'Gender_male'}, inplace=True)"
   ]
  },
  {
   "cell_type": "markdown",
   "id": "f509a422",
   "metadata": {},
   "source": [
    "#### Variables :\n",
    "Each attribute is a potential risk factor. There are both demographic, behavioural and medical risk factors.\n",
    "\n",
    "* Demographic: \n",
    "    * sex: male or female;(Nominal)\n",
    "\n",
    "    * age: age of the patient;(Continuous - Although the recorded ages have been truncated to whole numbers, the concept of age is continuous)\n",
    "* Behavioural:\n",
    "\n",
    "    * currentSmoker: whether or not the patient is a current smoker (Nominal)\n",
    "\n",
    "    * cigsPerDay: the number of cigarettes that the person smoked on average in one day.(can be considered continuous as one can have any number of cigarretts, even half a cigarette.)\n",
    "\n",
    "* Medical( history):\n",
    "\n",
    "    * BPMeds: whether or not the patient was on blood pressure medication (Nominal)\n",
    "\n",
    "    * prevalentStroke: whether or not the patient had previously had a stroke (Nominal)\n",
    "\n",
    "    * prevalentHyp: whether or not the patient was hypertensive (Nominal)\n",
    "\n",
    "    * diabetes: whether or not the patient had diabetes (Nominal)\n",
    "\n",
    "* Medical(current):\n",
    "\n",
    "    * totChol: total cholesterol level (Continuous)\n",
    "\n",
    "    * sysBP: systolic blood pressure (Continuous)\n",
    "\n",
    "    * diaBP: diastolic blood pressure (Continuous)\n",
    "\n",
    "    * BMI: Body Mass Index (Continuous)\n",
    "\n",
    "    * heartRate: heart rate (Continuous - In medical research, variables such as heart rate though in fact discrete, yet are considered continuous because of large number of possible values.)\n",
    "\n",
    "    * glucose: glucose level (Continuous)\n",
    "    \n",
    "\n",
    "* **Predict variable (desired target):**\n",
    "\n",
    "    * 10 year risk of coronary heart disease CHD (binary: “1”, means “Yes”, “0” means “No”)"
   ]
  },
  {
   "cell_type": "markdown",
   "id": "f8b34e75",
   "metadata": {},
   "source": [
    "### Missing values"
   ]
  },
  {
   "cell_type": "code",
   "execution_count": 9,
   "id": "be1dfa2b",
   "metadata": {},
   "outputs": [
    {
     "data": {
      "text/plain": [
       "Gender_male        0.000000\n",
       "age                0.000000\n",
       "currentSmoker      0.000000\n",
       "cigsPerDay         0.683962\n",
       "BPMeds             1.250000\n",
       "prevalentStroke    0.000000\n",
       "prevalentHyp       0.000000\n",
       "diabetes           0.000000\n",
       "totChol            1.179245\n",
       "sysBP              0.000000\n",
       "diaBP              0.000000\n",
       "BMI                0.448113\n",
       "heartRate          0.023585\n",
       "glucose            9.150943\n",
       "TenYearCHD         0.000000\n",
       "dtype: float64"
      ]
     },
     "execution_count": 9,
     "metadata": {},
     "output_type": "execute_result"
    }
   ],
   "source": [
    "heart_df.isnull().mean()*100"
   ]
  },
  {
   "cell_type": "code",
   "execution_count": 12,
   "id": "642b2264",
   "metadata": {},
   "outputs": [
    {
     "data": {
      "text/plain": [
       "489"
      ]
     },
     "execution_count": 12,
     "metadata": {},
     "output_type": "execute_result"
    }
   ],
   "source": [
    "# Total number of rows with missing values\n",
    "(heart_df.isnull().sum(axis=1) > 0).sum()"
   ]
  },
  {
   "cell_type": "code",
   "execution_count": 14,
   "id": "0027565d",
   "metadata": {},
   "outputs": [
    {
     "data": {
      "text/plain": [
       "11.533018867924529"
      ]
     },
     "execution_count": 14,
     "metadata": {},
     "output_type": "execute_result"
    }
   ],
   "source": [
    "100* 489/heart_df.shape[0]"
   ]
  },
  {
   "cell_type": "markdown",
   "id": "ed6dd181",
   "metadata": {},
   "source": [
    "Total number of rows with missing values is  489\n",
    "since it is only 12 percent of the entire dataset the rows with missing values are excluded."
   ]
  },
  {
   "cell_type": "code",
   "execution_count": 15,
   "id": "2ae3d6fc",
   "metadata": {},
   "outputs": [],
   "source": [
    "heart_df.dropna(axis=0, inplace=True)"
   ]
  },
  {
   "cell_type": "markdown",
   "id": "2df2bb9e",
   "metadata": {},
   "source": [
    "## 2. Exploratory Analysis"
   ]
  },
  {
   "cell_type": "code",
   "execution_count": 26,
   "id": "e42489c6",
   "metadata": {},
   "outputs": [
    {
     "data": {
      "text/plain": [
       "<Figure size 432x288 with 0 Axes>"
      ]
     },
     "metadata": {},
     "output_type": "display_data"
    },
    {
     "data": {
      "image/png": "[encoded data removed]",
      "text/plain": [
       "<Figure size 1440x1440 with 15 Axes>"
      ]
     },
     "metadata": {
      "needs_background": "light"
     },
     "output_type": "display_data"
    }
   ],
   "source": [
    "def draw_histograms(dataframe, features, rows, cols):\n",
    "    fig = plt.figure(figsize=(20,20))\n",
    "    for i, feature in enumerate(features):\n",
    "        ax = fig.add_subplot(rows, cols, i+1)\n",
    "        dataframe[feature].hist(bins=20, ax=ax, facecolor='midnightblue')\n",
    "        ax.set_title(feature+\" Distribution\", color='DarkRed')\n",
    "\n",
    "plt.tight_layout()\n",
    "plt.show()\n",
    "draw_histograms(heart_df, heart_df.columns,6,3)"
   ]
  },
  {
   "cell_type": "code",
   "execution_count": 27,
   "id": "2a23a7de",
   "metadata": {},
   "outputs": [
    {
     "data": {
      "text/plain": [
       "0    3179\n",
       "1     572\n",
       "Name: TenYearCHD, dtype: int64"
      ]
     },
     "execution_count": 27,
     "metadata": {},
     "output_type": "execute_result"
    }
   ],
   "source": [
    "heart_df.TenYearCHD.value_counts()"
   ]
  },
  {
   "cell_type": "code",
   "execution_count": 28,
   "id": "ecec522a",
   "metadata": {},
   "outputs": [
    {
     "data": {
      "image/png": "[encoded data removed]",
      "text/plain": [
       "<Figure size 432x288 with 1 Axes>"
      ]
     },
     "metadata": {
      "needs_background": "light"
     },
     "output_type": "display_data"
    }
   ],
   "source": [
    "sn.countplot(x='TenYearCHD', data=heart_df);"
   ]
  },
  {
   "cell_type": "markdown",
   "id": "ea40c614",
   "metadata": {},
   "source": [
    "There are 3179 patents with no heart disease and 572 patients with risk of heart disease."
   ]
  },
  {
   "cell_type": "code",
   "execution_count": 29,
   "id": "6112a568",
   "metadata": {},
   "outputs": [
    {
     "data": {
      "text/html": [
       "<div>\n",
       "<style scoped>\n",
       "    .dataframe tbody tr th:only-of-type {\n",
       "        vertical-align: middle;\n",
       "    }\n",
       "\n",
       "    .dataframe tbody tr th {\n",
       "        vertical-align: top;\n",
       "    }\n",
       "\n",
       "    .dataframe thead th {\n",
       "        text-align: right;\n",
       "    }\n",
       "</style>\n",
       "<table border=\"1\" class=\"dataframe\">\n",
       "  <thead>\n",
       "    <tr style=\"text-align: right;\">\n",
       "      <th></th>\n",
       "      <th>Gender_male</th>\n",
       "      <th>age</th>\n",
       "      <th>currentSmoker</th>\n",
       "      <th>cigsPerDay</th>\n",
       "      <th>BPMeds</th>\n",
       "      <th>prevalentStroke</th>\n",
       "      <th>prevalentHyp</th>\n",
       "      <th>diabetes</th>\n",
       "      <th>totChol</th>\n",
       "      <th>sysBP</th>\n",
       "      <th>diaBP</th>\n",
       "      <th>BMI</th>\n",
       "      <th>heartRate</th>\n",
       "      <th>glucose</th>\n",
       "      <th>TenYearCHD</th>\n",
       "    </tr>\n",
       "  </thead>\n",
       "  <tbody>\n",
       "    <tr>\n",
       "      <th>count</th>\n",
       "      <td>3751.000000</td>\n",
       "      <td>3751.000000</td>\n",
       "      <td>3751.000000</td>\n",
       "      <td>3751.000000</td>\n",
       "      <td>3751.000000</td>\n",
       "      <td>3751.000000</td>\n",
       "      <td>3751.000000</td>\n",
       "      <td>3751.000000</td>\n",
       "      <td>3751.000000</td>\n",
       "      <td>3751.000000</td>\n",
       "      <td>3751.000000</td>\n",
       "      <td>3751.000000</td>\n",
       "      <td>3751.000000</td>\n",
       "      <td>3751.000000</td>\n",
       "      <td>3751.000000</td>\n",
       "    </tr>\n",
       "    <tr>\n",
       "      <th>mean</th>\n",
       "      <td>0.445215</td>\n",
       "      <td>49.573447</td>\n",
       "      <td>0.488403</td>\n",
       "      <td>9.008531</td>\n",
       "      <td>0.030392</td>\n",
       "      <td>0.005599</td>\n",
       "      <td>0.311917</td>\n",
       "      <td>0.027193</td>\n",
       "      <td>236.928019</td>\n",
       "      <td>132.368435</td>\n",
       "      <td>82.938550</td>\n",
       "      <td>25.808288</td>\n",
       "      <td>75.704079</td>\n",
       "      <td>81.880032</td>\n",
       "      <td>0.152493</td>\n",
       "    </tr>\n",
       "    <tr>\n",
       "      <th>std</th>\n",
       "      <td>0.497056</td>\n",
       "      <td>8.570204</td>\n",
       "      <td>0.499932</td>\n",
       "      <td>11.925097</td>\n",
       "      <td>0.171686</td>\n",
       "      <td>0.074623</td>\n",
       "      <td>0.463338</td>\n",
       "      <td>0.162666</td>\n",
       "      <td>44.611594</td>\n",
       "      <td>22.046522</td>\n",
       "      <td>11.932779</td>\n",
       "      <td>4.065599</td>\n",
       "      <td>11.956382</td>\n",
       "      <td>23.882233</td>\n",
       "      <td>0.359546</td>\n",
       "    </tr>\n",
       "    <tr>\n",
       "      <th>min</th>\n",
       "      <td>0.000000</td>\n",
       "      <td>32.000000</td>\n",
       "      <td>0.000000</td>\n",
       "      <td>0.000000</td>\n",
       "      <td>0.000000</td>\n",
       "      <td>0.000000</td>\n",
       "      <td>0.000000</td>\n",
       "      <td>0.000000</td>\n",
       "      <td>113.000000</td>\n",
       "      <td>83.500000</td>\n",
       "      <td>48.000000</td>\n",
       "      <td>15.540000</td>\n",
       "      <td>44.000000</td>\n",
       "      <td>40.000000</td>\n",
       "      <td>0.000000</td>\n",
       "    </tr>\n",
       "    <tr>\n",
       "      <th>25%</th>\n",
       "      <td>0.000000</td>\n",
       "      <td>42.000000</td>\n",
       "      <td>0.000000</td>\n",
       "      <td>0.000000</td>\n",
       "      <td>0.000000</td>\n",
       "      <td>0.000000</td>\n",
       "      <td>0.000000</td>\n",
       "      <td>0.000000</td>\n",
       "      <td>206.000000</td>\n",
       "      <td>117.000000</td>\n",
       "      <td>75.000000</td>\n",
       "      <td>23.085000</td>\n",
       "      <td>68.000000</td>\n",
       "      <td>71.000000</td>\n",
       "      <td>0.000000</td>\n",
       "    </tr>\n",
       "    <tr>\n",
       "      <th>50%</th>\n",
       "      <td>0.000000</td>\n",
       "      <td>49.000000</td>\n",
       "      <td>0.000000</td>\n",
       "      <td>0.000000</td>\n",
       "      <td>0.000000</td>\n",
       "      <td>0.000000</td>\n",
       "      <td>0.000000</td>\n",
       "      <td>0.000000</td>\n",
       "      <td>234.000000</td>\n",
       "      <td>128.000000</td>\n",
       "      <td>82.000000</td>\n",
       "      <td>25.410000</td>\n",
       "      <td>75.000000</td>\n",
       "      <td>78.000000</td>\n",
       "      <td>0.000000</td>\n",
       "    </tr>\n",
       "    <tr>\n",
       "      <th>75%</th>\n",
       "      <td>1.000000</td>\n",
       "      <td>56.000000</td>\n",
       "      <td>1.000000</td>\n",
       "      <td>20.000000</td>\n",
       "      <td>0.000000</td>\n",
       "      <td>0.000000</td>\n",
       "      <td>1.000000</td>\n",
       "      <td>0.000000</td>\n",
       "      <td>264.000000</td>\n",
       "      <td>144.000000</td>\n",
       "      <td>90.000000</td>\n",
       "      <td>28.060000</td>\n",
       "      <td>82.000000</td>\n",
       "      <td>87.000000</td>\n",
       "      <td>0.000000</td>\n",
       "    </tr>\n",
       "    <tr>\n",
       "      <th>max</th>\n",
       "      <td>1.000000</td>\n",
       "      <td>70.000000</td>\n",
       "      <td>1.000000</td>\n",
       "      <td>70.000000</td>\n",
       "      <td>1.000000</td>\n",
       "      <td>1.000000</td>\n",
       "      <td>1.000000</td>\n",
       "      <td>1.000000</td>\n",
       "      <td>696.000000</td>\n",
       "      <td>295.000000</td>\n",
       "      <td>142.500000</td>\n",
       "      <td>56.800000</td>\n",
       "      <td>143.000000</td>\n",
       "      <td>394.000000</td>\n",
       "      <td>1.000000</td>\n",
       "    </tr>\n",
       "  </tbody>\n",
       "</table>\n",
       "</div>"
      ],
      "text/plain": [
       "       Gender_male          age  currentSmoker   cigsPerDay       BPMeds  \\\n",
       "count  3751.000000  3751.000000    3751.000000  3751.000000  3751.000000   \n",
       "mean      0.445215    49.573447       0.488403     9.008531     0.030392   \n",
       "std       0.497056     8.570204       0.499932    11.925097     0.171686   \n",
       "min       0.000000    32.000000       0.000000     0.000000     0.000000   \n",
       "25%       0.000000    42.000000       0.000000     0.000000     0.000000   \n",
       "50%       0.000000    49.000000       0.000000     0.000000     0.000000   \n",
       "75%       1.000000    56.000000       1.000000    20.000000     0.000000   \n",
       "max       1.000000    70.000000       1.000000    70.000000     1.000000   \n",
       "\n",
       "       prevalentStroke  prevalentHyp     diabetes      totChol        sysBP  \\\n",
       "count      3751.000000   3751.000000  3751.000000  3751.000000  3751.000000   \n",
       "mean          0.005599      0.311917     0.027193   236.928019   132.368435   \n",
       "std           0.074623      0.463338     0.162666    44.611594    22.046522   \n",
       "min           0.000000      0.000000     0.000000   113.000000    83.500000   \n",
       "25%           0.000000      0.000000     0.000000   206.000000   117.000000   \n",
       "50%           0.000000      0.000000     0.000000   234.000000   128.000000   \n",
       "75%           0.000000      1.000000     0.000000   264.000000   144.000000   \n",
       "max           1.000000      1.000000     1.000000   696.000000   295.000000   \n",
       "\n",
       "             diaBP          BMI    heartRate      glucose   TenYearCHD  \n",
       "count  3751.000000  3751.000000  3751.000000  3751.000000  3751.000000  \n",
       "mean     82.938550    25.808288    75.704079    81.880032     0.152493  \n",
       "std      11.932779     4.065599    11.956382    23.882233     0.359546  \n",
       "min      48.000000    15.540000    44.000000    40.000000     0.000000  \n",
       "25%      75.000000    23.085000    68.000000    71.000000     0.000000  \n",
       "50%      82.000000    25.410000    75.000000    78.000000     0.000000  \n",
       "75%      90.000000    28.060000    82.000000    87.000000     0.000000  \n",
       "max     142.500000    56.800000   143.000000   394.000000     1.000000  "
      ]
     },
     "execution_count": 29,
     "metadata": {},
     "output_type": "execute_result"
    }
   ],
   "source": [
    "heart_df.describe()"
   ]
  },
  {
   "cell_type": "markdown",
   "id": "9e1e0595",
   "metadata": {},
   "source": [
    "## 3. Splitting data to train and test split, modelling"
   ]
  },
  {
   "cell_type": "code",
   "execution_count": 30,
   "id": "b3cf0f05",
   "metadata": {},
   "outputs": [],
   "source": [
    "import sklearn\n",
    "new_features = heart_df[['age','Gender_male','cigsPerDay','totChol','sysBP','glucose','TenYearCHD']]\n",
    "x = new_features.iloc[:,:-1]\n",
    "y = new_features.iloc[:,-1]\n",
    "from sklearn.model_selection import train_test_split\n",
    "x_train, x_test, y_train, y_test = train_test_split(x,y,test_size=.20, random_state=5)"
   ]
  },
  {
   "cell_type": "code",
   "execution_count": 32,
   "id": "cfbc9cf0",
   "metadata": {},
   "outputs": [
    {
     "name": "stderr",
     "output_type": "stream",
     "text": [
      "C:\\ProgramData\\Anaconda3\\lib\\site-packages\\sklearn\\linear_model\\_logistic.py:763: ConvergenceWarning: lbfgs failed to converge (status=1):\n",
      "STOP: TOTAL NO. of ITERATIONS REACHED LIMIT.\n",
      "\n",
      "Increase the number of iterations (max_iter) or scale the data as shown in:\n",
      "    https://scikit-learn.org/stable/modules/preprocessing.html\n",
      "Please also refer to the documentation for alternative solver options:\n",
      "    https://scikit-learn.org/stable/modules/linear_model.html#logistic-regression\n",
      "  n_iter_i = _check_optimize_result(\n"
     ]
    },
    {
     "data": {
      "text/plain": [
       "LogisticRegression()"
      ]
     },
     "execution_count": 32,
     "metadata": {},
     "output_type": "execute_result"
    }
   ],
   "source": [
    "from sklearn.linear_model import LogisticRegression\n",
    "logreg = LogisticRegression()\n",
    "logreg.fit(x_train,y_train)"
   ]
  },
  {
   "cell_type": "code",
   "execution_count": 33,
   "id": "87aaf105",
   "metadata": {},
   "outputs": [],
   "source": [
    "y_pred = logreg.predict(x_test)"
   ]
  },
  {
   "cell_type": "markdown",
   "id": "b080f1fc",
   "metadata": {},
   "source": [
    "## 4. Model evolution \n",
    "### Accuracy"
   ]
  },
  {
   "cell_type": "code",
   "execution_count": 34,
   "id": "f48f2b66",
   "metadata": {},
   "outputs": [
    {
     "data": {
      "text/plain": [
       "0.8748335552596538"
      ]
     },
     "execution_count": 34,
     "metadata": {},
     "output_type": "execute_result"
    }
   ],
   "source": [
    "sklearn.metrics.accuracy_score(y_test, y_pred)"
   ]
  },
  {
   "cell_type": "markdown",
   "id": "2c065021",
   "metadata": {},
   "source": [
    "### Confusion matrix"
   ]
  },
  {
   "cell_type": "code",
   "execution_count": 35,
   "id": "45e33d1f",
   "metadata": {},
   "outputs": [
    {
     "data": {
      "image/png": "[encoded data removed]",
      "text/plain": [
       "<Figure size 576x360 with 2 Axes>"
      ]
     },
     "metadata": {
      "needs_background": "light"
     },
     "output_type": "display_data"
    }
   ],
   "source": [
    "from sklearn.metrics import confusion_matrix\n",
    "cm = confusion_matrix(y_test, y_pred)\n",
    "conf_matrix = pd.DataFrame(data=cm, columns=['Predicted:0','Predicted:1'], index=['Actual:0','Actual:1'])\n",
    "plt.figure(figsize = (8,5))\n",
    "sn.heatmap(conf_matrix, annot=True, fmt='d', cmap=\"YlGnBu\");"
   ]
  },
  {
   "cell_type": "markdown",
   "id": "cc1ad1b9",
   "metadata": {},
   "source": [
    "The confusion matrix shows 652+5 = 657 correct predictions and 87+7= 94 incorrect ones.\n",
    "\n",
    "* True Positives: 5\n",
    "* True Negatives: 652\n",
    "* False Positives: 7 (Type I error)\n",
    "* False Negatives: 87 ( Type II error)"
   ]
  },
  {
   "cell_type": "code",
   "execution_count": 36,
   "id": "54a88ceb",
   "metadata": {},
   "outputs": [],
   "source": [
    "TN=cm[0,0]\n",
    "TP=cm[1,1]\n",
    "FN=cm[1,0]\n",
    "FP=cm[0,1]\n",
    "sensitivity=TP/float(TP+FN)\n",
    "specificity=TN/float(TN+FP)"
   ]
  },
  {
   "cell_type": "code",
   "execution_count": 38,
   "id": "75c9cbca",
   "metadata": {},
   "outputs": [
    {
     "name": "stdout",
     "output_type": "stream",
     "text": [
      "The acuuracy of the model = (TP+TN)/(TP+TN+FP+FN) =  0.8748335552596538 \n",
      " The Missclassification = 1-Accuracy =  0.12516644474034622 \n",
      " Sensitivity or True Positive Rate = TP/(TP+FN) =  0.05434782608695652 \n",
      " Specificity or True Negative Rate = TN/(TN+FP) =  0.9893778452200304 \n",
      " Positive Predictive value = TP/(TP+FP) =  0.4166666666666667 \n",
      " Negative predictive Value = TN/(TN+FN) =  0.8822733423545331 \n",
      " Positive Likelihood Ratio = Sensitivity/(1-Specificity) =  5.116459627329198 \n",
      " Negative likelihood Ratio = (1-Sensitivity)/Specificity =  0.9558048813016804\n"
     ]
    }
   ],
   "source": [
    "print('The acuuracy of the model = (TP+TN)/(TP+TN+FP+FN) = ',(TP+TN)/float(TP+TN+FP+FN),'\\n',\n",
    "\n",
    "'The Missclassification = 1-Accuracy = ',1-((TP+TN)/float(TP+TN+FP+FN)),'\\n',\n",
    "\n",
    "'Sensitivity or True Positive Rate = TP/(TP+FN) = ',TP/float(TP+FN),'\\n',\n",
    "\n",
    "'Specificity or True Negative Rate = TN/(TN+FP) = ',TN/float(TN+FP),'\\n',\n",
    "\n",
    "'Positive Predictive value = TP/(TP+FP) = ',TP/float(TP+FP),'\\n',\n",
    "\n",
    "'Negative predictive Value = TN/(TN+FN) = ',TN/float(TN+FN),'\\n',\n",
    "\n",
    "'Positive Likelihood Ratio = Sensitivity/(1-Specificity) = ',sensitivity/(1-specificity),'\\n',\n",
    "\n",
    "'Negative likelihood Ratio = (1-Sensitivity)/Specificity = ',(1-sensitivity)/specificity)"
   ]
  },
  {
   "cell_type": "markdown",
   "id": "e9515234",
   "metadata": {},
   "source": [
    "**From the above statistics it is clear that the model is highly specific than sensitive. The negative values are predicted more accurately than the positives.**\n",
    "\n",
    "#### Predicted probabilities of 0 (No Coronary Heart Disease) and 1 ( Coronary Heart Disease: Yes) for the test data with a default classification threshold of 0.5"
   ]
  },
  {
   "cell_type": "code",
   "execution_count": 39,
   "id": "9fd39ad3",
   "metadata": {},
   "outputs": [
    {
     "data": {
      "text/html": [
       "<div>\n",
       "<style scoped>\n",
       "    .dataframe tbody tr th:only-of-type {\n",
       "        vertical-align: middle;\n",
       "    }\n",
       "\n",
       "    .dataframe tbody tr th {\n",
       "        vertical-align: top;\n",
       "    }\n",
       "\n",
       "    .dataframe thead th {\n",
       "        text-align: right;\n",
       "    }\n",
       "</style>\n",
       "<table border=\"1\" class=\"dataframe\">\n",
       "  <thead>\n",
       "    <tr style=\"text-align: right;\">\n",
       "      <th></th>\n",
       "      <th>Prob of no heart disease (0)</th>\n",
       "      <th>Prob of Heart Disease (1)</th>\n",
       "    </tr>\n",
       "  </thead>\n",
       "  <tbody>\n",
       "    <tr>\n",
       "      <th>0</th>\n",
       "      <td>0.874999</td>\n",
       "      <td>0.125001</td>\n",
       "    </tr>\n",
       "    <tr>\n",
       "      <th>1</th>\n",
       "      <td>0.956170</td>\n",
       "      <td>0.043830</td>\n",
       "    </tr>\n",
       "    <tr>\n",
       "      <th>2</th>\n",
       "      <td>0.783498</td>\n",
       "      <td>0.216502</td>\n",
       "    </tr>\n",
       "    <tr>\n",
       "      <th>3</th>\n",
       "      <td>0.806609</td>\n",
       "      <td>0.193391</td>\n",
       "    </tr>\n",
       "    <tr>\n",
       "      <th>4</th>\n",
       "      <td>0.892850</td>\n",
       "      <td>0.107150</td>\n",
       "    </tr>\n",
       "  </tbody>\n",
       "</table>\n",
       "</div>"
      ],
      "text/plain": [
       "   Prob of no heart disease (0)  Prob of Heart Disease (1)\n",
       "0                      0.874999                   0.125001\n",
       "1                      0.956170                   0.043830\n",
       "2                      0.783498                   0.216502\n",
       "3                      0.806609                   0.193391\n",
       "4                      0.892850                   0.107150"
      ]
     },
     "execution_count": 39,
     "metadata": {},
     "output_type": "execute_result"
    }
   ],
   "source": [
    "y_pred_prob=logreg.predict_proba(x_test)[:,:]\n",
    "y_pred_prob_df=pd.DataFrame(data=y_pred_prob, columns=['Prob of no heart disease (0)','Prob of Heart Disease (1)'])\n",
    "y_pred_prob_df.head()"
   ]
  },
  {
   "cell_type": "markdown",
   "id": "b2083ee2",
   "metadata": {},
   "source": [
    "### Lower the threshold\n",
    "Since the model is predicting Heart disease too many type II errors is not advisable. A False Negative ( ignoring the probability of disease when there actualy is one) is more dangerous than a False Positive in this case. Hence inorder to increase the sensitivity, threshold can be lowered."
   ]
  },
  {
   "cell_type": "code",
   "execution_count": 40,
   "id": "74341bd8",
   "metadata": {},
   "outputs": [
    {
     "name": "stdout",
     "output_type": "stream",
     "text": [
      "With 0.1 threshold the Confusion Matrix is  \n",
      " [[311 348]\n",
      " [ 12  80]] \n",
      " with 391 correct predictions and 12 Type II errors( False Negatives) \n",
      "\n",
      " Sensitivity:  0.8695652173913043 Specificity:  0.47192716236722304 \n",
      "\n",
      "\n",
      "\n",
      "With 0.2 threshold the Confusion Matrix is  \n",
      " [[518 141]\n",
      " [ 43  49]] \n",
      " with 567 correct predictions and 43 Type II errors( False Negatives) \n",
      "\n",
      " Sensitivity:  0.532608695652174 Specificity:  0.7860394537177542 \n",
      "\n",
      "\n",
      "\n",
      "With 0.3 threshold the Confusion Matrix is  \n",
      " [[600  59]\n",
      " [ 64  28]] \n",
      " with 628 correct predictions and 64 Type II errors( False Negatives) \n",
      "\n",
      " Sensitivity:  0.30434782608695654 Specificity:  0.9104704097116844 \n",
      "\n",
      "\n",
      "\n",
      "With 0.4 threshold the Confusion Matrix is  \n",
      " [[640  19]\n",
      " [ 80  12]] \n",
      " with 652 correct predictions and 80 Type II errors( False Negatives) \n",
      "\n",
      " Sensitivity:  0.13043478260869565 Specificity:  0.9711684370257967 \n",
      "\n",
      "\n",
      "\n"
     ]
    }
   ],
   "source": [
    "from sklearn.preprocessing import binarize\n",
    "for i in range(1, 5):\n",
    "    cm2 = 0\n",
    "    y_pred_prob_yes = logreg.predict_proba(x_test)\n",
    "    y_pred2 = binarize(y_pred_prob_yes, threshold=i/10)[:,1]\n",
    "    cm2 = confusion_matrix(y_test, y_pred2)\n",
    "    print('With', i/10, 'threshold the Confusion Matrix is ', '\\n', cm2, '\\n',\n",
    "    'with', cm2[0,0]+cm2[1,1], 'correct predictions and', cm2[1,0], 'Type II errors( False Negatives)', '\\n\\n',\n",
    "    'Sensitivity: ', cm2[1,1]/(float(cm2[1,1]+cm2[1,0])), 'Specificity: ', cm2[0,0]/(float(cm2[0,0]+cm2[0,1])), '\\n\\n\\n')"
   ]
  },
  {
   "cell_type": "markdown",
   "id": "cbd4c08c",
   "metadata": {},
   "source": [
    "### ROC curve"
   ]
  },
  {
   "cell_type": "code",
   "execution_count": 41,
   "id": "ab7b1376",
   "metadata": {},
   "outputs": [
    {
     "data": {
      "image/png": "[encoded data removed]",
      "text/plain": [
       "<Figure size 432x288 with 1 Axes>"
      ]
     },
     "metadata": {
      "needs_background": "light"
     },
     "output_type": "display_data"
    }
   ],
   "source": [
    "from sklearn.metrics import roc_curve\n",
    "fpr, tpr, thresholds = roc_curve(y_test, y_pred_prob_yes[:,1])\n",
    "plt.plot(fpr,tpr)\n",
    "plt.xlim([0.0, 1.0])\n",
    "plt.ylim([0.0, 1.0])\n",
    "plt.title('ROC curve for Heart disease classifier')\n",
    "plt.xlabel('False positive rate (1-Specificity)')\n",
    "plt.ylabel('True positive rate (Sensitivity)')\n",
    "plt.grid(True)"
   ]
  },
  {
   "cell_type": "markdown",
   "id": "32c85463",
   "metadata": {},
   "source": [
    "A common way to visualize the trade-offs of different thresholds is by using an ROC curve, a plot of the true positive rate (# true positives/ total # positives) versus the false positive rate (# false positives / total # negatives) for all possible choices of thresholds. A model with good classification accuracy should have significantly more true positives than false positives at all thresholds.\n",
    "\n",
    "The optimum position for roc curve is towards the top left corner where the specificity and sensitivity are at optimum levels\n",
    "\n",
    "### Area Under The Curve (AUC)\n",
    "\n",
    "The area under the ROC curve quantifies model classification accuracy; the higher the area, the greater the disparity between true and false positives, and the stronger the model in classifying members of the training dataset. An area of 0.5 corresponds to a model that performs no better than random classification and a good classifier stays as far away from that as possible. An area of 1 is ideal. The closer the AUC to 1 the better."
   ]
  },
  {
   "cell_type": "code",
   "execution_count": 42,
   "id": "ec409907",
   "metadata": {},
   "outputs": [
    {
     "data": {
      "text/plain": [
       "0.7385696377911195"
      ]
     },
     "execution_count": 42,
     "metadata": {},
     "output_type": "execute_result"
    }
   ],
   "source": [
    "sklearn.metrics.roc_auc_score(y_test,y_pred_prob_yes[:,1])"
   ]
  },
  {
   "cell_type": "markdown",
   "id": "818dd8c7",
   "metadata": {},
   "source": [
    "## Conclusions:\n",
    "\n",
    "* All attributes selected after the elimination process show P-values lower than 5% and thereby suggesting significant role in the Heart disease prediction.\n",
    "\n",
    "\n",
    "* Men seem to be more susceptible to heart disease than women.Increase in Age, number of cigarettes smoked per day and systolic Blood Pressure also show increasing odds of having heart disease.\n",
    "\n",
    "\n",
    "* Total cholesterol shows no significant change in the odds of CHD. This could be due to the presence of good cholesterol(HDL) in the total cholesterol reading. Glucose too causes a very negligible change in odds (0.2%)\n",
    "\n",
    "\n",
    "* The model predicted with 0.88 accuracy. The model is more specific than sensitive.\n",
    "\n",
    "\n",
    "* The Area under the ROC curve is 73.5 which is somewhat satisfactory.\n",
    "\n",
    "\n",
    "* Overall model could be improved with more data."
   ]
  },
  {
   "cell_type": "code",
   "execution_count": null,
   "id": "c85947c3",
   "metadata": {},
   "outputs": [],
   "source": []
  }
 ],
 "metadata": {
  "kernelspec": {
   "display_name": "Python 3 (ipykernel)",
   "language": "python",
   "name": "python3"
  },
  "language_info": {
   "codemirror_mode": {
    "name": "ipython",
    "version": 3
   },
   "file_extension": ".py",
   "mimetype": "text/x-python",
   "name": "python",
   "nbconvert_exporter": "python",
   "pygments_lexer": "ipython3",
   "version": "3.9.7"
  }
 },
 "nbformat": 4,
 "nbformat_minor": 5
}
